{
 "cells": [
  {
   "cell_type": "code",
   "execution_count": null,
   "id": "ed7f0285",
   "metadata": {},
   "outputs": [],
   "source": [
    "# gif_name = 'results/' + env_name + '_' + RL_method"
   ]
  },
  {
   "cell_type": "code",
   "execution_count": null,
   "id": "1769e557",
   "metadata": {},
   "outputs": [],
   "source": [
    "from test import visualize\n",
    "from utils import get_environment\n",
    "from benchmarks.sb3_utils import setup_benchmark_model"
   ]
  },
  {
   "cell_type": "code",
   "execution_count": null,
   "id": "78645129",
   "metadata": {},
   "outputs": [],
   "source": []
  }
 ],
 "metadata": {
  "kernelspec": {
   "display_name": "Python 3 (ipykernel)",
   "language": "python",
   "name": "python3"
  },
  "language_info": {
   "codemirror_mode": {
    "name": "ipython",
    "version": 3
   },
   "file_extension": ".py",
   "mimetype": "text/x-python",
   "name": "python",
   "nbconvert_exporter": "python",
   "pygments_lexer": "ipython3",
   "version": "3.9.7"
  }
 },
 "nbformat": 4,
 "nbformat_minor": 5
}
