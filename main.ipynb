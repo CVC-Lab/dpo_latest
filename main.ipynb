{
 "cells": [
  {
   "cell_type": "markdown",
   "id": "263d2011",
   "metadata": {},
   "source": [
    "**TRAINING**"
   ]
  },
  {
   "cell_type": "code",
   "execution_count": 1,
   "id": "958946c7",
   "metadata": {},
   "outputs": [
    {
     "name": "stdout",
     "output_type": "stream",
     "text": [
      "PyRosetta-4 2023 [Rosetta PyRosetta4.Release.python39.linux 2023.12+release.1d8714894eec1dac6443b64d144d220c4aed4f9c 2023-03-20T20:16:16] retrieved from: http://www.pyrosetta.org\n",
      "(C) Copyright Rosetta Commons Member Institutions. Created in JHU by Sergey Lyskov and PyRosetta Team.\n",
      "core.init: Checking for fconfig files in pwd and ./rosetta/flags\n",
      "core.init: Rosetta version: PyRosetta4.Release.python39.linux r343 2023.12+release.1d87148 1d8714894eec1dac6443b64d144d220c4aed4f9c http://www.pyrosetta.org 2023-03-20T20:16:16\n",
      "core.init: command: PyRosetta -ex1 -ex2aro -database /home/mpnguyen/anaconda3/envs/basics/lib/python3.9/site-packages/pyrosetta/database\n",
      "basic.random.init_random_generator: 'RNG device' seed mode, using '/dev/urandom', seed=1999207316 seed_offset=0 real_seed=1999207316\n",
      "basic.random.init_random_generator: RandomGenerator:init: Normal mode, seed=1999207316 RG_type=mt19937\n"
     ]
    }
   ],
   "source": [
    "from train import train\n",
    "import time\n",
    "def train_helper(env_name, num_optimize_iters, warm_up_threshold, zero_order, save_interval):\n",
    "    start_time = time.time()\n",
    "    train(env_name, num_optimize_iters, warm_up_threshold, zero_order, save_interval)\n",
    "    print('Training takes {} hours'.format(int(time.time()-start_time)/3600))"
   ]
  },
  {
   "cell_type": "code",
   "execution_count": 2,
   "id": "1b740590",
   "metadata": {},
   "outputs": [],
   "source": [
    "%reload_ext autoreload"
   ]
  },
  {
   "cell_type": "markdown",
   "id": "ce693328",
   "metadata": {},
   "source": [
    "**SHAPE**"
   ]
  },
  {
   "cell_type": "code",
   "execution_count": null,
   "id": "8417a505",
   "metadata": {},
   "outputs": [
    {
     "name": "stdout",
     "output_type": "stream",
     "text": [
      "Hyperparams: Rate: 1.000, num traj: 128, step size: 0.01000, lr: 0.00100, batch_size: 32, log_interval:1000\n",
      "\n",
      "\n",
      "Currently at stage 0. Reinforce: False\n",
      "Iter 1000: loss 9.024.\n",
      "Iter 2000: loss 4.944.\n",
      "Iter 3000: loss 2.020.\n",
      "Iter 4000: loss 1.125.\n",
      "Iter 5000: loss 0.696.\n",
      "Iter 6000: loss 0.560.\n",
      "Iter 7000: loss 0.543.\n",
      "Iter 8000: loss 0.468.\n",
      "Iter 9000: loss 0.493.\n",
      "Iter 10000: loss 0.470.\n",
      "\n",
      "\n",
      "Currently at stage 1. Reinforce: False\n",
      "Iter 1000: loss 2.968.\n",
      "Iter 2000: loss 2.477.\n",
      "Iter 3000: loss 2.203.\n",
      "Iter 4000: loss 2.203.\n",
      "Iter 5000: loss 2.129.\n",
      "Iter 6000: loss 2.029.\n",
      "Iter 7000: loss 2.066.\n",
      "Iter 8000: loss 1.918.\n",
      "Iter 9000: loss 1.875.\n",
      "Iter 10000: loss 1.730.\n",
      "\n",
      "\n",
      "Currently at stage 2. Reinforce: False\n",
      "Iter 1000: loss 3.540.\n",
      "Iter 2000: loss 2.995.\n",
      "Iter 3000: loss 2.700.\n",
      "Iter 4000: loss 2.387.\n",
      "Iter 5000: loss 2.127.\n",
      "Iter 6000: loss 1.937.\n",
      "Iter 7000: loss 1.770.\n",
      "Iter 8000: loss 1.646.\n",
      "Iter 9000: loss 1.498.\n",
      "Iter 10000: loss 1.665.\n",
      "Iter 11000: loss 1.361.\n",
      "\n",
      "\n",
      "Currently at stage 3. Reinforce: False\n",
      "Iter 1000: loss 2.510.\n",
      "Iter 2000: loss 1.800.\n",
      "Iter 3000: loss 1.702.\n",
      "Iter 4000: loss 1.500.\n",
      "Iter 5000: loss 1.344.\n",
      "Iter 6000: loss 1.255.\n",
      "Iter 7000: loss 1.282.\n",
      "Iter 8000: loss 1.049.\n",
      "Iter 9000: loss 1.052.\n",
      "Iter 10000: loss 0.967.\n",
      "Iter 11000: loss 0.966.\n",
      "\n",
      "\n",
      "Currently at stage 4. Reinforce: False\n",
      "Iter 1000: loss 1.608.\n",
      "Iter 2000: loss 1.382.\n",
      "Iter 3000: loss 1.317.\n",
      "Iter 4000: loss 1.218.\n",
      "Iter 5000: loss 1.033.\n",
      "Iter 6000: loss 0.955.\n",
      "Iter 7000: loss 0.888.\n",
      "Iter 8000: loss 0.958.\n",
      "Iter 9000: loss 0.793.\n",
      "Iter 10000: loss 0.977.\n",
      "Iter 11000: loss 0.844.\n",
      "Iter 12000: loss 0.788.\n",
      "\n",
      "\n",
      "Currently at stage 5. Reinforce: False\n",
      "Iter 1000: loss 0.953.\n",
      "Iter 2000: loss 0.979.\n",
      "Iter 3000: loss 0.822.\n",
      "Iter 4000: loss 0.821.\n",
      "Iter 5000: loss 0.706.\n",
      "Iter 6000: loss 0.752.\n",
      "Iter 7000: loss 0.696.\n"
     ]
    }
   ],
   "source": [
    "# Shape boundary, zero order.\n",
    "env_name = 'shape_boundary'\n",
    "c = 1.05\n",
    "num_optimize_iters = [int(10000 * (c**i)) for i in range(21)]\n",
    "train_helper(env_name, num_optimize_iters, warm_up_threshold=15, zero_order=True, save_interval=5)"
   ]
  },
  {
   "cell_type": "code",
   "execution_count": null,
   "id": "379156db",
   "metadata": {
    "scrolled": false
   },
   "outputs": [],
   "source": [
    "# Shape boundary, first order.\n",
    "env_name = 'shape_boundary'\n",
    "c = 1.05\n",
    "num_optimize_iters = [int(5000 * (c**i)) for i in range(21)]\n",
    "train_helper(env_name, num_optimize_iters, warm_up_threshold=15, zero_order=False, save_interval=5)"
   ]
  },
  {
   "cell_type": "markdown",
   "id": "dd547597",
   "metadata": {},
   "source": [
    "**SHAPE WITH TOPO**"
   ]
  },
  {
   "cell_type": "code",
   "execution_count": null,
   "id": "de018294",
   "metadata": {
    "scrolled": false
   },
   "outputs": [],
   "source": [
    "# Shape, zero order.\n",
    "env_name = 'shape'\n",
    "c = 1.05\n",
    "num_optimize_iters = [int(10000 * (c**i)) for i in range(21)]\n",
    "train_helper(env_name, num_optimize_iters, warm_up_threshold=15, zero_order=True, save_interval=5)"
   ]
  },
  {
   "cell_type": "code",
   "execution_count": null,
   "id": "f2447453",
   "metadata": {},
   "outputs": [],
   "source": [
    "# Shape, first order.\n",
    "env_name = 'shape'\n",
    "c = 1.05\n",
    "num_optimize_iters = [int(5000 * (c**i)) for i in range(21)]\n",
    "train_helper(env_name, num_optimize_iters, warm_up_threshold=15, zero_order=False, save_interval=5)"
   ]
  },
  {
   "cell_type": "markdown",
   "id": "f82deaa3",
   "metadata": {},
   "source": [
    "**MOLECULE**"
   ]
  },
  {
   "cell_type": "code",
   "execution_count": null,
   "id": "dcc42541",
   "metadata": {},
   "outputs": [],
   "source": [
    "from train import train\n",
    "import time\n",
    "def train_helper(env_name, num_optimize_iters, warm_up_threshold, zero_order, save_interval):\n",
    "    start_time = time.time()\n",
    "    train(env_name, num_optimize_iters, warm_up_threshold, zero_order, save_interval)\n",
    "    print('Training takes {} hours'.format(int(time.time()-start_time)/3600))"
   ]
  },
  {
   "cell_type": "code",
   "execution_count": null,
   "id": "938532c3",
   "metadata": {},
   "outputs": [],
   "source": [
    "# Molecule zero order.\n",
    "env_name = 'molecule'\n",
    "c = 1.5\n",
    "num_optimize_iters = [int(1000 * (c**i)) for i in range(10)]\n",
    "train_helper(env_name, num_optimize_iters, warm_up_threshold=5, zero_order=True, save_interval=5)"
   ]
  },
  {
   "cell_type": "code",
   "execution_count": null,
   "id": "236a0810",
   "metadata": {
    "scrolled": false
   },
   "outputs": [],
   "source": [
    "# Molecule first order.\n",
    "env_name = 'molecule'\n",
    "c = 1.5\n",
    "num_optimize_iters = [int(1000 * (c**i)) for i in range(10)]\n",
    "train_helper(env_name, num_optimize_iters, warm_up_threshold=5, zero_order=False, save_interval=5)"
   ]
  },
  {
   "cell_type": "markdown",
   "id": "3afb0fcc",
   "metadata": {},
   "source": [
    "**VISUALIZATION**"
   ]
  },
  {
   "cell_type": "code",
   "execution_count": null,
   "id": "6600346a",
   "metadata": {},
   "outputs": [],
   "source": [
    "from test import visualize\n",
    "from utils import get_environment\n",
    "from benchmarks.sb3_utils import setup_benchmark_model"
   ]
  },
  {
   "cell_type": "code",
   "execution_count": null,
   "id": "b3b041da",
   "metadata": {},
   "outputs": [],
   "source": [
    "# Visualization from benchmark\n",
    "env_name = 'molecule'\n",
    "env = get_environment(env_name)\n",
    "method='SAC'\n",
    "model = setup_benchmark_model(method, env, env_name)\n",
    "visualize(env, model, num_step=100, benchmark_model=True,\n",
    "              extra_args='random', img_path=None)"
   ]
  },
  {
   "cell_type": "code",
   "execution_count": null,
   "id": "5a76f7ac",
   "metadata": {},
   "outputs": [],
   "source": []
  }
 ],
 "metadata": {
  "kernelspec": {
   "display_name": "Python 3 (ipykernel)",
   "language": "python",
   "name": "python3"
  },
  "language_info": {
   "codemirror_mode": {
    "name": "ipython",
    "version": 3
   },
   "file_extension": ".py",
   "mimetype": "text/x-python",
   "name": "python",
   "nbconvert_exporter": "python",
   "pygments_lexer": "ipython3",
   "version": "3.9.18"
  }
 },
 "nbformat": 4,
 "nbformat_minor": 5
}
