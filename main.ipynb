{
 "cells": [
  {
   "cell_type": "markdown",
   "id": "263d2011",
   "metadata": {},
   "source": [
    "**TRAINING**"
   ]
  },
  {
   "cell_type": "code",
   "execution_count": null,
   "id": "958946c7",
   "metadata": {},
   "outputs": [],
   "source": [
    "from train import train\n",
    "import time\n",
    "def train_helper(env_name, num_optimize_iters, warm_up_threshold, zero_order, save_interval):\n",
    "    start_time = time.time()\n",
    "    train(env_name, num_optimize_iters, warm_up_threshold, zero_order, save_interval)\n",
    "    print('Training takes {} hours'.format(int(time.time()-start_time)/3600))"
   ]
  },
  {
   "cell_type": "code",
   "execution_count": null,
   "id": "1b740590",
   "metadata": {},
   "outputs": [],
   "source": [
    "%reload_ext autoreload"
   ]
  },
  {
   "cell_type": "markdown",
   "id": "ce693328",
   "metadata": {},
   "source": [
    "**SHAPE**"
   ]
  },
  {
   "cell_type": "code",
   "execution_count": null,
   "id": "8417a505",
   "metadata": {},
   "outputs": [],
   "source": [
    "# Shape boundary, zero order.\n",
    "env_name = 'shape_boundary'\n",
    "c = 1.05\n",
    "num_optimize_iters = [int(10000 * (c**i)) for i in range(21)]\n",
    "train_helper(env_name, num_optimize_iters, warm_up_threshold=15, zero_order=True, save_interval=5)"
   ]
  },
  {
   "cell_type": "code",
   "execution_count": null,
   "id": "379156db",
   "metadata": {
    "scrolled": false
   },
   "outputs": [],
   "source": [
    "# Shape boundary, first order.\n",
    "env_name = 'shape_boundary'\n",
    "c = 1.05\n",
    "num_optimize_iters = [int(5000 * (c**i)) for i in range(21)]\n",
    "train_helper(env_name, num_optimize_iters, warm_up_threshold=15, zero_order=False, save_interval=5)"
   ]
  },
  {
   "cell_type": "markdown",
   "id": "dd547597",
   "metadata": {},
   "source": [
    "**SHAPE WITH TOPO**"
   ]
  },
  {
   "cell_type": "code",
   "execution_count": null,
   "id": "de018294",
   "metadata": {
    "scrolled": false
   },
   "outputs": [],
   "source": [
    "# Shape, zero order.\n",
    "env_name = 'shape'\n",
    "c = 1.1\n",
    "num_optimize_iters = [int(5000 * (c**i)) for i in range(21)]\n",
    "train_helper(env_name, num_optimize_iters, warm_up_threshold=15, zero_order=True, save_interval=1)"
   ]
  },
  {
   "cell_type": "code",
   "execution_count": null,
   "id": "f2447453",
   "metadata": {},
   "outputs": [],
   "source": [
    "# Shape, first order.\n",
    "env_name = 'shape'\n",
    "c = 1.05\n",
    "num_optimize_iters = [int(500 * (c**i)) for i in range(21)]\n",
    "train_helper(env_name, num_optimize_iters, warm_up_threshold=21, zero_order=False, save_interval=5)"
   ]
  },
  {
   "cell_type": "markdown",
   "id": "f82deaa3",
   "metadata": {},
   "source": [
    "**MOLECULE**"
   ]
  },
  {
   "cell_type": "code",
   "execution_count": null,
   "id": "dcc42541",
   "metadata": {},
   "outputs": [],
   "source": [
    "from train import train\n",
    "import time\n",
    "def train_helper(env_name, num_optimize_iters, warm_up_threshold, zero_order, save_interval):\n",
    "    start_time = time.time()\n",
    "    train(env_name, num_optimize_iters, warm_up_threshold, zero_order, save_interval)\n",
    "    print('Training takes {} hours'.format(int(time.time()-start_time)/3600))"
   ]
  },
  {
   "cell_type": "code",
   "execution_count": null,
   "id": "938532c3",
   "metadata": {},
   "outputs": [],
   "source": [
    "# Molecule zero order.\n",
    "env_name = 'molecule'\n",
    "c = 1.5\n",
    "num_optimize_iters = [int(1000 * (c**i)) for i in range(10)]\n",
    "train_helper(env_name, num_optimize_iters, warm_up_threshold=5, zero_order=True, save_interval=5)"
   ]
  },
  {
   "cell_type": "code",
   "execution_count": null,
   "id": "236a0810",
   "metadata": {
    "scrolled": false
   },
   "outputs": [],
   "source": [
    "# Molecule first order.\n",
    "env_name = 'molecule'\n",
    "c = 1.5\n",
    "num_optimize_iters = [int(1000 * (c**i)) for i in range(10)]\n",
    "train_helper(env_name, num_optimize_iters, warm_up_threshold=5, zero_order=False, save_interval=5)"
   ]
  },
  {
   "cell_type": "markdown",
   "id": "3afb0fcc",
   "metadata": {},
   "source": [
    "**VISUALIZATION**"
   ]
  },
  {
   "cell_type": "code",
   "execution_count": null,
   "id": "6600346a",
   "metadata": {},
   "outputs": [],
   "source": [
    "from test import visualize\n",
    "from utils import get_environment\n",
    "from benchmarks.sb3_utils import setup_benchmark_model"
   ]
  },
  {
   "cell_type": "code",
   "execution_count": null,
   "id": "b3b041da",
   "metadata": {},
   "outputs": [],
   "source": [
    "# Visualization from benchmark\n",
    "env_name = 'molecule'\n",
    "env = get_environment(env_name)\n",
    "method='SAC'\n",
    "model = setup_benchmark_model(method, env, env_name)\n",
    "visualize(env, model, num_step=100, benchmark_model=True,\n",
    "              extra_args='random', img_path=None)"
   ]
  },
  {
   "cell_type": "code",
   "execution_count": null,
   "id": "5a76f7ac",
   "metadata": {},
   "outputs": [],
   "source": []
  }
 ],
 "metadata": {
  "kernelspec": {
   "display_name": "Python 3 (ipykernel)",
   "language": "python",
   "name": "python3"
  },
  "language_info": {
   "codemirror_mode": {
    "name": "ipython",
    "version": 3
   },
   "file_extension": ".py",
   "mimetype": "text/x-python",
   "name": "python",
   "nbconvert_exporter": "python",
   "pygments_lexer": "ipython3",
   "version": "3.9.18"
  }
 },
 "nbformat": 4,
 "nbformat_minor": 5
}
