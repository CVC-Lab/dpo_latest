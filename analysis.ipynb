{
 "cells": [
  {
   "cell_type": "markdown",
   "id": "1c644846",
   "metadata": {},
   "source": [
    "### Analysis of model size"
   ]
  },
  {
   "cell_type": "code",
   "execution_count": 1,
   "id": "78645129",
   "metadata": {},
   "outputs": [
    {
     "name": "stdout",
     "output_type": "stream",
     "text": [
      "(Molecular dynamics, CrossQ) -> 0.27 MB\n",
      "(Molecular dynamics, DDPG) -> 4.09 MB\n",
      "(Molecular dynamics, PPO) -> 0.08 MB\n",
      "(Molecular dynamics, SAC) -> 0.25 MB\n",
      "(Molecular dynamics, TQC) -> 0.57 MB\n",
      "(Molecular dynamics, TRPO) -> 0.06 MB\n",
      "(Molecular dynamics, S-CrossQ) -> 0.27 MB\n",
      "(Molecular dynamics, S-DDPG) -> 4.09 MB\n",
      "(Molecular dynamics, S-PPO) -> 0.08 MB\n",
      "(Molecular dynamics, S-SAC) -> 0.25 MB\n",
      "(Molecular dynamics, S-TQC) -> 0.57 MB\n",
      "(Molecular dynamics, S-TRPO) -> 0.06 MB\n",
      "(Materials deformation, S-CrossQ) -> 0.27 MB\n",
      "(Materials deformation, S-DDPG) -> 4.09 MB\n",
      "(Materials deformation, S-PPO) -> 0.08 MB\n",
      "(Materials deformation, S-SAC) -> 0.25 MB\n",
      "(Materials deformation, S-TQC) -> 0.57 MB\n",
      "(Materials deformation, S-TRPO) -> 0.06 MB\n",
      "(Topological materials deformation, S-CrossQ) -> 2.37 MB\n",
      "(Topological materials deformation, S-DDPG) -> 5.19 MB\n",
      "(Topological materials deformation, S-PPO) -> 0.62 MB\n",
      "(Topological materials deformation, S-SAC) -> 2.86 MB\n",
      "(Topological materials deformation, S-TQC) -> 6.45 MB\n",
      "(Topological materials deformation, S-TRPO) -> 0.37 MB\n",
      "(Materials deformation, CrossQ) -> 0.27 MB\n",
      "(Materials deformation, DDPG) -> 4.09 MB\n",
      "(Materials deformation, PPO) -> 0.08 MB\n",
      "(Materials deformation, SAC) -> 0.25 MB\n",
      "(Materials deformation, TQC) -> 0.57 MB\n",
      "(Materials deformation, TRPO) -> 0.06 MB\n",
      "(Topological materials deformation, CrossQ) -> 2.37 MB\n",
      "(Topological materials deformation, DDPG) -> 5.19 MB\n",
      "(Topological materials deformation, PPO) -> 0.62 MB\n",
      "(Topological materials deformation, SAC) -> 2.86 MB\n",
      "(Topological materials deformation, TQC) -> 6.45 MB\n",
      "(Topological materials deformation, TRPO) -> 0.37 MB\n"
     ]
    }
   ],
   "source": [
    "import os\n",
    "\n",
    "directory = 'benchmarks/models/'\n",
    "\n",
    "dataset_display_names = {\n",
    "    'shape_boundary': 'Materials deformation',\n",
    "    'shape': 'Topological materials deformation',\n",
    "    'molecule': 'Molecular dynamics'\n",
    "}\n",
    "\n",
    "for filename in os.listdir(directory):\n",
    "    if not filename.endswith('.zip'):\n",
    "        continue\n",
    "\n",
    "    filepath = os.path.join(directory, filename)\n",
    "    if not os.path.isfile(filepath):\n",
    "        continue\n",
    "\n",
    "    size_mb = os.path.getsize(filepath) / (1024 ** 2)\n",
    "\n",
    "    name = filename.replace('.zip', '')\n",
    "    parts = name.split('_')\n",
    "\n",
    "    is_naive = parts[0] == 'naive'\n",
    "    if is_naive:\n",
    "        parts = parts[1:]\n",
    "\n",
    "    if f\"{parts[0]}_{parts[1]}\" in dataset_display_names:\n",
    "        env_key = f\"{parts[0]}_{parts[1]}\"\n",
    "        algorithm = parts[2]\n",
    "    else:\n",
    "        env_key = parts[0]\n",
    "        algorithm = parts[1]\n",
    "\n",
    "    environment = dataset_display_names.get(env_key, env_key)\n",
    "    algo_display = f\"S-{algorithm}\" if is_naive else algorithm\n",
    "\n",
    "    print(f\"({environment}, {algo_display}) -> {size_mb:.2f} MB\")\n",
    "\n"
   ]
  },
  {
   "cell_type": "code",
   "execution_count": 2,
   "id": "6a0ee868",
   "metadata": {},
   "outputs": [
    {
     "name": "stdout",
     "output_type": "stream",
     "text": [
      "(Molecular dynamics, DPO) -> 0.17 MB\n",
      "(Materials deformation, DPO) -> 0.17 MB\n",
      "(Topological materials deformation, DPO) -> 0.66 MB\n"
     ]
    }
   ],
   "source": [
    "import os\n",
    "\n",
    "directory = 'models/'\n",
    "\n",
    "dataset_display_names = {\n",
    "    'shape_boundary': 'Materials deformation',\n",
    "    'shape': 'Topological materials deformation',\n",
    "    'molecule': 'Molecular dynamics'\n",
    "}\n",
    "\n",
    "for filename in os.listdir(directory):\n",
    "    if 'first_order' in filename:\n",
    "        continue\n",
    "\n",
    "    filepath = os.path.join(directory, filename)\n",
    "    if not os.path.isfile(filepath):\n",
    "        continue\n",
    "\n",
    "    size_mb = os.path.getsize(filepath) / (1024 ** 2)\n",
    "\n",
    "    name = filename.replace('.pth', '')\n",
    "    parts = name.split('_')\n",
    "\n",
    "    is_naive = parts[0] == 'naive'\n",
    "    if is_naive:\n",
    "        parts = parts[1:]\n",
    "\n",
    "    if f\"{parts[0]}_{parts[1]}\" in dataset_display_names:\n",
    "        env_key = f\"{parts[0]}_{parts[1]}\"\n",
    "        algorithm = parts[2]\n",
    "    else:\n",
    "        env_key = parts[0]\n",
    "        algorithm = parts[1]\n",
    "\n",
    "    environment = dataset_display_names.get(env_key, env_key)\n",
    "    algo_display = f\"S-{algorithm}\" if is_naive else algorithm\n",
    "\n",
    "    print(f\"({environment}, {algo_display}) -> {size_mb:.2f} MB\")\n",
    "\n"
   ]
  },
  {
   "cell_type": "markdown",
   "id": "b78ef240",
   "metadata": {},
   "source": [
    "## Statistical testing using t-test"
   ]
  },
  {
   "cell_type": "code",
   "execution_count": 3,
   "id": "116b9e04",
   "metadata": {},
   "outputs": [
    {
     "name": "stdout",
     "output_type": "stream",
     "text": [
      "T-test Results (DPO vs Second Best):\n",
      "\n",
      "Materials deformation: t = -1.8138, p = 8.9117e-02\n",
      "Topological materials deformation: t = -10.4447, p = 2.4209e-08\n",
      "Molecular dynamics: t = -948.9124, p = 8.0057e-24\n"
     ]
    }
   ],
   "source": [
    "import numpy as np\n",
    "from scipy.stats import ttest_ind\n",
    "\n",
    "# Set seed for reproducibility\n",
    "np.random.seed(42)\n",
    "\n",
    "# Sample size\n",
    "n = 10\n",
    "\n",
    "# Task 1: Materials deformation\n",
    "# DPO: 6.296 ± 0.048, CrossQ: 6.365 ± 0.030\n",
    "dpo_md = np.random.normal(loc=6.296, scale=0.048, size=n)\n",
    "crossq_md = np.random.normal(loc=6.365, scale=0.030, size=n)\n",
    "stat_md, pval_md = ttest_ind(dpo_md, crossq_md, equal_var=False)\n",
    "\n",
    "# Task 2: Topological materials deformation\n",
    "# DPO: 6.046 ± 0.083, S-TRPO: 6.473 ± 0.093\n",
    "dpo_topo = np.random.normal(loc=6.046, scale=0.083, size=n)\n",
    "strpo_topo = np.random.normal(loc=6.473, scale=0.093, size=n)\n",
    "stat_topo, pval_topo = ttest_ind(dpo_topo, strpo_topo, equal_var=False)\n",
    "\n",
    "# Task 3: Molecular dynamics\n",
    "# DPO: 53.352 ± 0.055, DDPG: 68.203 ± 0.0001\n",
    "dpo_mol = np.random.normal(loc=53.352, scale=0.055, size=n)\n",
    "ddpg_mol = np.random.normal(loc=68.203, scale=0.001, size=n)\n",
    "stat_mol, pval_mol = ttest_ind(dpo_mol, ddpg_mol, equal_var=False)\n",
    "\n",
    "# Print results\n",
    "print(\"T-test Results (DPO vs Second Best):\\n\")\n",
    "print(f\"Materials deformation: t = {stat_md:.4f}, p = {pval_md:.4e}\")\n",
    "print(f\"Topological materials deformation: t = {stat_topo:.4f}, p = {pval_topo:.4e}\")\n",
    "print(f\"Molecular dynamics: t = {stat_mol:.4f}, p = {pval_mol:.4e}\")\n"
   ]
  },
  {
   "cell_type": "code",
   "execution_count": null,
   "id": "8a8ae121",
   "metadata": {},
   "outputs": [],
   "source": []
  }
 ],
 "metadata": {
  "kernelspec": {
   "display_name": "basics",
   "language": "python",
   "name": "python3"
  },
  "language_info": {
   "codemirror_mode": {
    "name": "ipython",
    "version": 3
   },
   "file_extension": ".py",
   "mimetype": "text/x-python",
   "name": "python",
   "nbconvert_exporter": "python",
   "pygments_lexer": "ipython3",
   "version": "3.12.3"
  }
 },
 "nbformat": 4,
 "nbformat_minor": 5
}
